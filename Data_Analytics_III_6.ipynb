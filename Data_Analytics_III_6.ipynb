{
  "cells": [
    {
      "cell_type": "code",
      "execution_count": null,
      "id": "5edddfc1-6676-47f1-9e8a-ca29f40bab7e",
      "metadata": {
        "id": "5edddfc1-6676-47f1-9e8a-ca29f40bab7e"
      },
      "outputs": [],
      "source": [
        "import pandas as pd\n",
        "import numpy as np\n",
        "import seaborn as sns\n",
        "import matplotlib.pyplot as plt\n",
        "from sklearn.model_selection import train_test_split\n",
        "from sklearn.naive_bayes import GaussianNB\n",
        "from sklearn.metrics import confusion_matrix, accuracy_score,precision_score, recall_score"
      ]
    },
    {
      "cell_type": "code",
      "execution_count": null,
      "id": "90629440-0acb-4863-b1a1-02dc4280d406",
      "metadata": {
        "id": "90629440-0acb-4863-b1a1-02dc4280d406",
        "outputId": "7b5c76df-be53-4e64-9992-2d8ab3845914"
      },
      "outputs": [
        {
          "data": {
            "text/html": [
              "<div>\n",
              "<style scoped>\n",
              "    .dataframe tbody tr th:only-of-type {\n",
              "        vertical-align: middle;\n",
              "    }\n",
              "\n",
              "    .dataframe tbody tr th {\n",
              "        vertical-align: top;\n",
              "    }\n",
              "\n",
              "    .dataframe thead th {\n",
              "        text-align: right;\n",
              "    }\n",
              "</style>\n",
              "<table border=\"1\" class=\"dataframe\">\n",
              "  <thead>\n",
              "    <tr style=\"text-align: right;\">\n",
              "      <th></th>\n",
              "      <th>sepal_length</th>\n",
              "      <th>sepal_width</th>\n",
              "      <th>petal_length</th>\n",
              "      <th>petal_width</th>\n",
              "      <th>species</th>\n",
              "    </tr>\n",
              "  </thead>\n",
              "  <tbody>\n",
              "    <tr>\n",
              "      <th>0</th>\n",
              "      <td>5.1</td>\n",
              "      <td>3.5</td>\n",
              "      <td>1.4</td>\n",
              "      <td>0.2</td>\n",
              "      <td>setosa</td>\n",
              "    </tr>\n",
              "    <tr>\n",
              "      <th>1</th>\n",
              "      <td>4.9</td>\n",
              "      <td>3.0</td>\n",
              "      <td>1.4</td>\n",
              "      <td>0.2</td>\n",
              "      <td>setosa</td>\n",
              "    </tr>\n",
              "    <tr>\n",
              "      <th>2</th>\n",
              "      <td>4.7</td>\n",
              "      <td>3.2</td>\n",
              "      <td>1.3</td>\n",
              "      <td>0.2</td>\n",
              "      <td>setosa</td>\n",
              "    </tr>\n",
              "    <tr>\n",
              "      <th>3</th>\n",
              "      <td>4.6</td>\n",
              "      <td>3.1</td>\n",
              "      <td>1.5</td>\n",
              "      <td>0.2</td>\n",
              "      <td>setosa</td>\n",
              "    </tr>\n",
              "    <tr>\n",
              "      <th>4</th>\n",
              "      <td>5.0</td>\n",
              "      <td>3.6</td>\n",
              "      <td>1.4</td>\n",
              "      <td>0.2</td>\n",
              "      <td>setosa</td>\n",
              "    </tr>\n",
              "    <tr>\n",
              "      <th>...</th>\n",
              "      <td>...</td>\n",
              "      <td>...</td>\n",
              "      <td>...</td>\n",
              "      <td>...</td>\n",
              "      <td>...</td>\n",
              "    </tr>\n",
              "    <tr>\n",
              "      <th>145</th>\n",
              "      <td>6.7</td>\n",
              "      <td>3.0</td>\n",
              "      <td>5.2</td>\n",
              "      <td>2.3</td>\n",
              "      <td>virginica</td>\n",
              "    </tr>\n",
              "    <tr>\n",
              "      <th>146</th>\n",
              "      <td>6.3</td>\n",
              "      <td>2.5</td>\n",
              "      <td>5.0</td>\n",
              "      <td>1.9</td>\n",
              "      <td>virginica</td>\n",
              "    </tr>\n",
              "    <tr>\n",
              "      <th>147</th>\n",
              "      <td>6.5</td>\n",
              "      <td>3.0</td>\n",
              "      <td>5.2</td>\n",
              "      <td>2.0</td>\n",
              "      <td>virginica</td>\n",
              "    </tr>\n",
              "    <tr>\n",
              "      <th>148</th>\n",
              "      <td>6.2</td>\n",
              "      <td>3.4</td>\n",
              "      <td>5.4</td>\n",
              "      <td>2.3</td>\n",
              "      <td>virginica</td>\n",
              "    </tr>\n",
              "    <tr>\n",
              "      <th>149</th>\n",
              "      <td>5.9</td>\n",
              "      <td>3.0</td>\n",
              "      <td>5.1</td>\n",
              "      <td>1.8</td>\n",
              "      <td>virginica</td>\n",
              "    </tr>\n",
              "  </tbody>\n",
              "</table>\n",
              "<p>150 rows × 5 columns</p>\n",
              "</div>"
            ],
            "text/plain": [
              "     sepal_length  sepal_width  petal_length  petal_width    species\n",
              "0             5.1          3.5           1.4          0.2     setosa\n",
              "1             4.9          3.0           1.4          0.2     setosa\n",
              "2             4.7          3.2           1.3          0.2     setosa\n",
              "3             4.6          3.1           1.5          0.2     setosa\n",
              "4             5.0          3.6           1.4          0.2     setosa\n",
              "..            ...          ...           ...          ...        ...\n",
              "145           6.7          3.0           5.2          2.3  virginica\n",
              "146           6.3          2.5           5.0          1.9  virginica\n",
              "147           6.5          3.0           5.2          2.0  virginica\n",
              "148           6.2          3.4           5.4          2.3  virginica\n",
              "149           5.9          3.0           5.1          1.8  virginica\n",
              "\n",
              "[150 rows x 5 columns]"
            ]
          },
          "execution_count": 2,
          "metadata": {},
          "output_type": "execute_result"
        }
      ],
      "source": [
        "df = sns.load_dataset('iris')\n",
        "df"
      ]
    },
    {
      "cell_type": "code",
      "execution_count": null,
      "id": "1e0fb1b0-3e12-455d-8c2c-2985336cc0bd",
      "metadata": {
        "id": "1e0fb1b0-3e12-455d-8c2c-2985336cc0bd",
        "outputId": "f6685157-54ed-45fb-b688-3d0070ee875e"
      },
      "outputs": [
        {
          "name": "stdout",
          "output_type": "stream",
          "text": [
            "Data Info:\n",
            "<class 'pandas.core.frame.DataFrame'>\n",
            "RangeIndex: 150 entries, 0 to 149\n",
            "Data columns (total 5 columns):\n",
            " #   Column        Non-Null Count  Dtype  \n",
            "---  ------        --------------  -----  \n",
            " 0   sepal_length  150 non-null    float64\n",
            " 1   sepal_width   150 non-null    float64\n",
            " 2   petal_length  150 non-null    float64\n",
            " 3   petal_width   150 non-null    float64\n",
            " 4   species       150 non-null    object \n",
            "dtypes: float64(4), object(1)\n",
            "memory usage: 6.0+ KB\n",
            "\n",
            "Missing Values:\n",
            "sepal_length    0\n",
            "sepal_width     0\n",
            "petal_length    0\n",
            "petal_width     0\n",
            "species         0\n",
            "dtype: int64\n"
          ]
        }
      ],
      "source": [
        "# Display dataset info\n",
        "print(\"Data Info:\")\n",
        "df.info()\n",
        "# Check for missing values\n",
        "print(\"\\nMissing Values:\")\n",
        "print(df.isnull().sum())"
      ]
    },
    {
      "cell_type": "code",
      "execution_count": null,
      "id": "2246225a-b7d8-42bd-abb8-703e809f10e5",
      "metadata": {
        "id": "2246225a-b7d8-42bd-abb8-703e809f10e5",
        "outputId": "e87438a3-0e85-4361-980c-85283d5b90ba"
      },
      "outputs": [
        {
          "name": "stdout",
          "output_type": "stream",
          "text": [
            "Training set shape: (105, 4)\n",
            "Testing set shape: (45, 4)\n"
          ]
        }
      ],
      "source": [
        "# Define features (X) and target (y)\n",
        "X = df.drop('species', axis=1) # Features\n",
        "y = df['species'] # Target\n",
        "# Split the dataset into training (70%) and testing (30%) sets\n",
        "X_train, X_test, y_train, y_test = train_test_split(X, y,\n",
        "test_size=0.3, random_state=42)\n",
        "print(f\"Training set shape: {X_train.shape}\")\n",
        "print(f\"Testing set shape: {X_test.shape}\")"
      ]
    },
    {
      "cell_type": "code",
      "execution_count": null,
      "id": "4c275b6d-6738-4103-9b6f-90140b0dd70d",
      "metadata": {
        "id": "4c275b6d-6738-4103-9b6f-90140b0dd70d"
      },
      "outputs": [],
      "source": [
        "# Initialize the Gaussian Naïve Bayes model\n",
        "nb_model = GaussianNB()\n",
        "# Train the model\n",
        "nb_model.fit(X_train, y_train)\n",
        "# Make predictions on the test set\n",
        "y_pred = nb_model.predict(X_test)"
      ]
    },
    {
      "cell_type": "code",
      "execution_count": null,
      "id": "7affc04e-0a20-4f78-85d0-5b916922f4bd",
      "metadata": {
        "id": "7affc04e-0a20-4f78-85d0-5b916922f4bd",
        "outputId": "76ef16e0-f0f1-4241-eb87-2988faf81dc2"
      },
      "outputs": [
        {
          "name": "stdout",
          "output_type": "stream",
          "text": [
            "\n",
            "Confusion Matrix:\n",
            "[[19  0  0]\n",
            " [ 0 12  1]\n",
            " [ 0  0 13]]\n"
          ]
        }
      ],
      "source": [
        "# Compute the confusion matrix\n",
        "cm = confusion_matrix(y_test, y_pred)\n",
        "# Display the confusion matrix\n",
        "print(\"\\nConfusion Matrix:\")\n",
        "print(cm)"
      ]
    },
    {
      "cell_type": "code",
      "execution_count": null,
      "id": "ebf849d5-79fb-4588-b6f5-972a2cb194e2",
      "metadata": {
        "id": "ebf849d5-79fb-4588-b6f5-972a2cb194e2"
      },
      "outputs": [],
      "source": [
        "from sklearn.metrics import confusion_matrix\n",
        "cm = confusion_matrix(y_test, y_pred)"
      ]
    },
    {
      "cell_type": "code",
      "execution_count": null,
      "id": "ddb99b32-d29b-4eea-b9a5-75b67a213ee6",
      "metadata": {
        "id": "ddb99b32-d29b-4eea-b9a5-75b67a213ee6",
        "outputId": "2e99bb8d-4588-47dc-c9c4-1fa9983c1bee"
      },
      "outputs": [
        {
          "name": "stdout",
          "output_type": "stream",
          "text": [
            "species\n",
            "versicolor    37\n",
            "virginica     37\n",
            "setosa        31\n",
            "Name: count, dtype: int64\n"
          ]
        }
      ],
      "source": [
        "import pandas as pd\n",
        "print(pd.Series(y_train).value_counts()) # Assuming y_train is your training labels"
      ]
    },
    {
      "cell_type": "code",
      "execution_count": null,
      "id": "1c142357-1f86-44cb-b514-5c5f4bc08961",
      "metadata": {
        "id": "1c142357-1f86-44cb-b514-5c5f4bc08961",
        "outputId": "fc2c94f5-6e0b-4700-f26b-7a082797595b"
      },
      "outputs": [
        {
          "name": "stdout",
          "output_type": "stream",
          "text": [
            "y_test (True Labels):\n",
            "73     versicolor\n",
            "18         setosa\n",
            "118     virginica\n",
            "78     versicolor\n",
            "76     versicolor\n",
            "31         setosa\n",
            "64     versicolor\n",
            "141     virginica\n",
            "68     versicolor\n",
            "82     versicolor\n",
            "110     virginica\n",
            "12         setosa\n",
            "36         setosa\n",
            "9          setosa\n",
            "19         setosa\n",
            "56     versicolor\n",
            "104     virginica\n",
            "69     versicolor\n",
            "55     versicolor\n",
            "132     virginica\n",
            "29         setosa\n",
            "127     virginica\n",
            "26         setosa\n",
            "128     virginica\n",
            "131     virginica\n",
            "145     virginica\n",
            "108     virginica\n",
            "143     virginica\n",
            "45         setosa\n",
            "30         setosa\n",
            "22         setosa\n",
            "15         setosa\n",
            "65     versicolor\n",
            "11         setosa\n",
            "42         setosa\n",
            "146     virginica\n",
            "51     versicolor\n",
            "27         setosa\n",
            "4          setosa\n",
            "32         setosa\n",
            "142     virginica\n",
            "85     versicolor\n",
            "86     versicolor\n",
            "16         setosa\n",
            "10         setosa\n",
            "Name: species, dtype: object\n",
            "\n",
            "y_pred (Predicted Labels):\n",
            "['versicolor' 'setosa' 'virginica' 'versicolor' 'versicolor' 'setosa'\n",
            " 'versicolor' 'virginica' 'versicolor' 'versicolor' 'virginica' 'setosa'\n",
            " 'setosa' 'setosa' 'setosa' 'virginica' 'virginica' 'versicolor'\n",
            " 'versicolor' 'virginica' 'setosa' 'virginica' 'setosa' 'virginica'\n",
            " 'virginica' 'virginica' 'virginica' 'virginica' 'setosa' 'setosa'\n",
            " 'setosa' 'setosa' 'versicolor' 'setosa' 'setosa' 'virginica' 'versicolor'\n",
            " 'setosa' 'setosa' 'setosa' 'virginica' 'versicolor' 'versicolor' 'setosa'\n",
            " 'setosa']\n"
          ]
        }
      ],
      "source": [
        "print(\"y_test (True Labels):\")\n",
        "print(y_test)\n",
        "print(\"\\ny_pred (Predicted Labels):\")\n",
        "print(y_pred)"
      ]
    },
    {
      "cell_type": "code",
      "execution_count": null,
      "id": "708f7645-c762-47c3-9ed4-043014efd5d1",
      "metadata": {
        "id": "708f7645-c762-47c3-9ed4-043014efd5d1",
        "outputId": "e2626281-7741-4891-cd13-a40b85dd06a7"
      },
      "outputs": [
        {
          "name": "stdout",
          "output_type": "stream",
          "text": [
            "Unique Labels in y_test: ['setosa' 'versicolor' 'virginica']\n",
            "Unique Labels in y_pred: ['setosa' 'versicolor' 'virginica']\n"
          ]
        }
      ],
      "source": [
        "import numpy as np\n",
        "\n",
        "print(\"Unique Labels in y_test:\", np.unique(y_test))\n",
        "print(\"Unique Labels in y_pred:\", np.unique(y_pred))"
      ]
    },
    {
      "cell_type": "code",
      "execution_count": null,
      "id": "36e06e0e-bafc-4207-8a6c-97ffeff0f9b7",
      "metadata": {
        "id": "36e06e0e-bafc-4207-8a6c-97ffeff0f9b7",
        "outputId": "01b6d401-f19f-4e39-fca6-c3fc5f3ca5b6"
      },
      "outputs": [
        {
          "name": "stdout",
          "output_type": "stream",
          "text": [
            "Model Classes: ['setosa' 'versicolor' 'virginica']\n"
          ]
        }
      ],
      "source": [
        "print(\"Model Classes:\", nb_model.classes_)"
      ]
    },
    {
      "cell_type": "code",
      "execution_count": null,
      "id": "ea9e51fb-26fc-41af-b126-a6c837140e7b",
      "metadata": {
        "id": "ea9e51fb-26fc-41af-b126-a6c837140e7b",
        "outputId": "d7d8b538-c6a1-4b4e-a0d7-0d86cc774c7a"
      },
      "outputs": [
        {
          "data": {
            "image/png": "[encoded data removed]",
            "text/plain": [
              "<Figure size 800x600 with 2 Axes>"
            ]
          },
          "metadata": {},
          "output_type": "display_data"
        }
      ],
      "source": [
        "import matplotlib.pyplot as plt\n",
        "import numpy as np\n",
        "from sklearn.metrics import confusion_matrix\n",
        "\n",
        "# Assuming 'cm' is your confusion matrix and 'nb_model.classes_' are defined\n",
        "\n",
        "# Create a figure and axes\n",
        "fig, ax = plt.subplots(figsize=(8, 6))\n",
        "\n",
        "# Display the confusion matrix as an image\n",
        "im = ax.imshow(cm, interpolation='nearest', cmap=plt.cm.Blues)\n",
        "\n",
        "# Add a colorbar\n",
        "ax.figure.colorbar(im, ax=ax)\n",
        "\n",
        "# Set labels, title, and ticks\n",
        "ax.set(xticks=np.arange(cm.shape[1]),\n",
        "       yticks=np.arange(cm.shape[0]),\n",
        "       xticklabels=nb_model.classes_,\n",
        "       yticklabels=nb_model.classes_,\n",
        "       title='Confusion Matrix',\n",
        "       ylabel='True label',\n",
        "       xlabel='Predicted label')\n",
        "\n",
        "# Rotate the tick labels and set their alignment\n",
        "plt.setp(ax.get_xticklabels(), rotation=45, ha=\"right\", rotation_mode=\"anchor\")\n",
        "\n",
        "# Loop over data dimensions and create text annotations\n",
        "fmt = 'd'\n",
        "thresh = cm.max() / 2.\n",
        "for i in range(cm.shape[0]):\n",
        "    for j in range(cm.shape[1]):\n",
        "        ax.text(j, i, format(cm[i, j], fmt),\n",
        "                ha=\"center\", va=\"center\",\n",
        "                color=\"white\" if cm[i, j] > thresh else \"black\")\n",
        "\n",
        "fig.tight_layout()\n",
        "plt.show()"
      ]
    },
    {
      "cell_type": "code",
      "execution_count": null,
      "id": "e17bc8a8-7129-42b2-bfa6-3ffcf4f4bcd1",
      "metadata": {
        "id": "e17bc8a8-7129-42b2-bfa6-3ffcf4f4bcd1",
        "outputId": "c550db79-4f12-4243-f6b6-f24180d5b8ee"
      },
      "outputs": [
        {
          "name": "stdout",
          "output_type": "stream",
          "text": [
            "Evaluation Metrics:\n",
            "Class: setosa\n",
            "True Positives (TP): 19\n",
            "False Positives (FP): 0\n",
            "True Negatives (TN): 26\n",
            "False Negatives (FN): 0\n",
            "Class: versicolor\n",
            "True Positives (TP): 12\n",
            "False Positives (FP): 0\n",
            "True Negatives (TN): 32\n",
            "False Negatives (FN): 1\n",
            "Class: virginica\n",
            "True Positives (TP): 13\n",
            "False Positives (FP): 1\n",
            "True Negatives (TN): 31\n",
            "False Negatives (FN): 0\n",
            "\n",
            "Overall Metrics:\n",
            "Accuracy: 0.9778\n",
            "Error Rate: 0.0222\n",
            "Precision (macro): 0.9762\n",
            "Recall (macro): 0.9744\n"
          ]
        }
      ],
      "source": [
        "from sklearn.metrics import accuracy_score, precision_score, recall_score, confusion_matrix\n",
        "import numpy as np\n",
        "\n",
        "# Assuming y_test, y_pred, and nb_model are already defined\n",
        "\n",
        "# Calculate metrics\n",
        "accuracy = accuracy_score(y_test, y_pred)\n",
        "error_rate = 1 - accuracy\n",
        "precision = precision_score(y_test, y_pred, average='macro')\n",
        "recall = recall_score(y_test, y_pred, average='macro')\n",
        "\n",
        "# Extract TP, FP, TN, FN for each class from the confusion matrix\n",
        "cm = confusion_matrix(y_test, y_pred)\n",
        "tp = np.diag(cm)  # True Positives for each class\n",
        "fp = cm.sum(axis=0) - tp  # False Positives for each class\n",
        "fn = cm.sum(axis=1) - tp  # False Negatives for each class\n",
        "tn = cm.sum() - (tp + fp + fn)  # True Negatives for each class\n",
        "\n",
        "# Display results\n",
        "print(\"Evaluation Metrics:\")\n",
        "for i, class_name in enumerate(nb_model.classes_):\n",
        "    print(f\"Class: {class_name}\")\n",
        "    print(f\"True Positives (TP): {tp[i]}\")\n",
        "    print(f\"False Positives (FP): {fp[i]}\")\n",
        "    print(f\"True Negatives (TN): {tn[i]}\")\n",
        "    print(f\"False Negatives (FN): {fn[i]}\")\n",
        "\n",
        "print(\"\\nOverall Metrics:\")  # Added a newline for better formatting\n",
        "print(f\"Accuracy: {accuracy:.4f}\")\n",
        "print(f\"Error Rate: {error_rate:.4f}\")\n",
        "print(f\"Precision (macro): {precision:.4f}\")\n",
        "print(f\"Recall (macro): {recall:.4f}\")  # Corrected line (removed the trailing 1)"
      ]
    },
    {
      "cell_type": "code",
      "execution_count": null,
      "id": "ebcf7e56-0479-4d18-96bd-1acb624cdd5d",
      "metadata": {
        "id": "ebcf7e56-0479-4d18-96bd-1acb624cdd5d"
      },
      "outputs": [],
      "source": []
    }
  ],
  "metadata": {
    "kernelspec": {
      "display_name": "Python 3 (ipykernel)",
      "language": "python",
      "name": "python3"
    },
    "language_info": {
      "codemirror_mode": {
        "name": "ipython",
        "version": 3
      },
      "file_extension": ".py",
      "mimetype": "text/x-python",
      "name": "python",
      "nbconvert_exporter": "python",
      "pygments_lexer": "ipython3",
      "version": "3.13.2"
    },
    "colab": {
      "provenance": []
    }
  },
  "nbformat": 4,
  "nbformat_minor": 5
}
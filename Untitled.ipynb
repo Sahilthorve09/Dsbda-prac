{
 "cells": [
  {
   "cell_type": "code",
   "execution_count": 1,
   "id": "31b704c8-c8c2-4eb8-98b3-bb0f740001b3",
   "metadata": {},
   "outputs": [],
   "source": [
    "import heapq\n",
    "\n",
    "def heuristic(a, b):\n",
    "    # Manhattan distance as heuristic (for grid movement)\n",
    "    return abs(a[0] - b[0]) + abs(a[1] - b[1])\n",
    "\n",
    "def astar(grid, start, goal):\n",
    "    rows, cols = len(grid), len(grid[0])\n",
    "    open_set = []\n",
    "    heapq.heappush(open_set, (0, start))\n",
    "    \n",
    "    came_from = {}\n",
    "    g_score = {start: 0}\n",
    "    \n",
    "    while open_set:\n",
    "        _, current = heapq.heappop(open_set)\n",
    "        \n",
    "        if current == goal:\n",
    "            # Reconstruct path\n",
    "            path = []\n",
    "            while current in came_from:\n",
    "                path.append(current)\n",
    "                current = came_from[current]\n",
    "            path.append(start)\n",
    "            return path[::-1]  # reverse path\n",
    "\n",
    "        for dx, dy in [(-1,0), (1,0), (0,-1), (0,1)]:  # 4 directions\n",
    "            neighbor = (current[0] + dx, current[1] + dy)\n",
    "            if 0 <= neighbor[0] < rows and 0 <= neighbor[1] < cols:\n",
    "                if grid[neighbor[0]][neighbor[1]] == 1:  # 1 is obstacle\n",
    "                    continue\n",
    "\n",
    "                tentative_g = g_score[current] + 1\n",
    "                if neighbor not in g_score or tentative_g < g_score[neighbor]:\n",
    "                    came_from[neighbor] = current\n",
    "                    g_score[neighbor] = tentative_g\n",
    "                    f_score = tentative_g + heuristic(neighbor, goal)\n",
    "                    heapq.heappush(open_set, (f_score, neighbor))\n",
    "\n",
    "    return None  # No path found\n"
   ]
  },
  {
   "cell_type": "code",
   "execution_count": null,
   "id": "bd67dc3b-25ba-4296-bc19-5267b06e9a9e",
   "metadata": {},
   "outputs": [],
   "source": []
  }
 ],
 "metadata": {
  "kernelspec": {
   "display_name": "Python 3 (ipykernel)",
   "language": "python",
   "name": "python3"
  },
  "language_info": {
   "codemirror_mode": {
    "name": "ipython",
    "version": 3
   },
   "file_extension": ".py",
   "mimetype": "text/x-python",
   "name": "python",
   "nbconvert_exporter": "python",
   "pygments_lexer": "ipython3",
   "version": "3.12.10"
  }
 },
 "nbformat": 4,
 "nbformat_minor": 5
}
